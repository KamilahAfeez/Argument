{
  "nbformat": 4,
  "nbformat_minor": 0,
  "metadata": {
    "colab": {
      "provenance": [],
      "authorship_tag": "ABX9TyMmb+Ele6mIC7lUg1CeFE9Z",
      "include_colab_link": true
    },
    "kernelspec": {
      "name": "python3",
      "display_name": "Python 3"
    },
    "language_info": {
      "name": "python"
    }
  },
  "cells": [
    {
      "cell_type": "markdown",
      "metadata": {
        "id": "view-in-github",
        "colab_type": "text"
      },
      "source": [
        "<a href=\"https://colab.research.google.com/github/KamilahAfeez/Argument/blob/main/Untitled2.ipynb\" target=\"_parent\"><img src=\"https://colab.research.google.com/assets/colab-badge.svg\" alt=\"Open In Colab\"/></a>"
      ]
    },
    {
      "cell_type": "code",
      "execution_count": 27,
      "metadata": {
        "id": "WLQgChA-ee6I"
      },
      "outputs": [],
      "source": [
        "def total_calc(bill_amount,tip_perc):\n",
        "  total = bill_amount*(1+0.01*tip_perc)\n",
        "  total = round(total,2)\n",
        "  print(f\"Please pay ${total}\")\n",
        "  total_calc(150,20)"
      ]
    }
  ]
}