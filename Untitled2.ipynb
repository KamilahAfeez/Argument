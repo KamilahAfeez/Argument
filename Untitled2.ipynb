{
  "nbformat": 4,
  "nbformat_minor": 0,
  "metadata": {
    "colab": {
      "provenance": [],
      "authorship_tag": "ABX9TyOHk2jauMJ3nRZQ6NSfTKEn",
      "include_colab_link": true
    },
    "kernelspec": {
      "name": "python3",
      "display_name": "Python 3"
    },
    "language_info": {
      "name": "python"
    }
  },
  "cells": [
    {
      "cell_type": "markdown",
      "metadata": {
        "id": "view-in-github",
        "colab_type": "text"
      },
      "source": [
        "<a href=\"https://colab.research.google.com/github/KamilahAfeez/Argument/blob/main/Untitled2.ipynb\" target=\"_parent\"><img src=\"https://colab.research.google.com/assets/colab-badge.svg\" alt=\"Open In Colab\"/></a>"
      ]
    },
    {
      "cell_type": "code",
      "execution_count": 27,
      "metadata": {
        "id": "WLQgChA-ee6I"
      },
      "outputs": [],
      "source": [
        "def total_calc(bill_amount,tip_perc):\n",
        "  total = bill_amount*(1+0.01*tip_perc)\n",
        "  total = round(total,2)\n",
        "  print(f\"Please pay ${total}\")\n",
        "  total_calc(150,20)"
      ]
    },
    {
      "cell_type": "code",
      "source": [
        "def cube(number):\n",
        "  return number*number*number\n",
        "def by_three(number):\n",
        "  if number %3 ==0:\n",
        "    return cube(number)\n",
        "  else:\n",
        "    return False\n",
        "print(by_three(9))\n",
        "print(by_three(4))"
      ],
      "metadata": {
        "colab": {
          "base_uri": "https://localhost:8080/"
        },
        "id": "5FZgmjeIhgdA",
        "outputId": "87c1dd85-4286-4688-905c-3a5fc5e3d652"
      },
      "execution_count": 29,
      "outputs": [
        {
          "output_type": "stream",
          "name": "stdout",
          "text": [
            "729\n",
            "False\n"
          ]
        }
      ]
    },
    {
      "cell_type": "code",
      "source": [],
      "metadata": {
        "id": "7PnCWeg3iElz"
      },
      "execution_count": null,
      "outputs": []
    }
  ]
}