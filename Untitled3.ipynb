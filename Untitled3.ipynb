{
  "nbformat": 4,
  "nbformat_minor": 0,
  "metadata": {
    "colab": {
      "provenance": [],
      "authorship_tag": "ABX9TyPhSBNxXdLNd9T8NlQXFahS",
      "include_colab_link": true
    },
    "kernelspec": {
      "name": "python3",
      "display_name": "Python 3"
    },
    "language_info": {
      "name": "python"
    }
  },
  "cells": [
    {
      "cell_type": "markdown",
      "metadata": {
        "id": "view-in-github",
        "colab_type": "text"
      },
      "source": [
        "<a href=\"https://colab.research.google.com/github/KamilahAfeez/Argument/blob/main/Untitled3.ipynb\" target=\"_parent\"><img src=\"https://colab.research.google.com/assets/colab-badge.svg\" alt=\"Open In Colab\"/></a>"
      ]
    },
    {
      "cell_type": "code",
      "execution_count": 9,
      "metadata": {
        "colab": {
          "base_uri": "https://localhost:8080/"
        },
        "id": "pI-PWvkHkmrs",
        "outputId": "c916335a-6160-4856-a048-797806bcbc6a"
      },
      "outputs": [
        {
          "output_type": "stream",
          "name": "stdout",
          "text": [
            "Enter the first number: 10\n",
            "Enter the second number: 8\n",
            "✅ The result of 10.0 / 8.0 is: 1.25\n",
            "🔁Program execution complete.\n"
          ]
        }
      ],
      "source": [
        "def divide_user_inputs():\n",
        " try:\n",
        "    a = input(\"Enter the first number: \")\n",
        "    b = input(\"Enter the second number: \")\n",
        "    a = float(a)\n",
        "    b = float(b)\n",
        "    if a < 0 or b < 0:\n",
        "      raise ValueError(\"Only positive numbers are allowed.\")\n",
        "    result = a / b\n",
        " except ZeroDivisionError:\n",
        "  print(\"❌Error: Cannot divide by zero.\")\n",
        " except ValueError as ve:\n",
        "  print(f\"❌Value Error: {ve}\")\n",
        " except TypeError as te:\n",
        "  print(f\"❌Type Error: {te}\")\n",
        " else:\n",
        "  print(f\"✅ The result of {a} / {b} is: {result}\")\n",
        " finally:\n",
        "    print(\"🔁Program execution complete.\")\n",
        "#run the function\n",
        "divide_user_inputs()"
      ]
    }
  ]
}