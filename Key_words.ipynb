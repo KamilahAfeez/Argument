{
  "nbformat": 4,
  "nbformat_minor": 0,
  "metadata": {
    "colab": {
      "provenance": [],
      "authorship_tag": "ABX9TyNWABjlZEwqoEKP+QibuN4E",
      "include_colab_link": true
    },
    "kernelspec": {
      "name": "python3",
      "display_name": "Python 3"
    },
    "language_info": {
      "name": "python"
    }
  },
  "cells": [
    {
      "cell_type": "markdown",
      "metadata": {
        "id": "view-in-github",
        "colab_type": "text"
      },
      "source": [
        "<a href=\"https://colab.research.google.com/github/KamilahAfeez/Argument/blob/main/Key_words.ipynb\" target=\"_parent\"><img src=\"https://colab.research.google.com/assets/colab-badge.svg\" alt=\"Open In Colab\"/></a>"
      ]
    },
    {
      "cell_type": "code",
      "execution_count": 2,
      "metadata": {
        "colab": {
          "base_uri": "https://localhost:8080/"
        },
        "id": "fzXafwXJb_ik",
        "outputId": "6317eebe-4988-46ac-962e-5eac34ff2c28"
      },
      "outputs": [
        {
          "output_type": "stream",
          "name": "stdout",
          "text": [
            "Enter a string: Apple\n",
            "Alphabet 'A' is found in the string.\n"
          ]
        }
      ],
      "source": [
        "#Activity 1\n",
        "# Input string\n",
        "text = input(\"Enter a string: \")\n",
        "for char in text:\n",
        "   if char.upper() == 'A':\n",
        "       print(\"Alphabet 'A' is found in the string.\")\n",
        "       break\n",
        "else:\n",
        "  print(\"Alphabet 'A' is not found in the string.\")"
      ]
    },
    {
      "cell_type": "code",
      "source": [
        "for i in range(5):\n",
        "    if i == 2:\n",
        "       pass\n",
        "    print(\"Current number:\", i)\n",
        "print(\"Loop finished.\")"
      ],
      "metadata": {
        "colab": {
          "base_uri": "https://localhost:8080/"
        },
        "id": "9bymrdz1eeco",
        "outputId": "6f447503-8c83-42dd-c84c-519ccf7d76da"
      },
      "execution_count": 6,
      "outputs": [
        {
          "output_type": "stream",
          "name": "stdout",
          "text": [
            "Current number: 0\n",
            "Current number: 1\n",
            "Current number: 2\n",
            "Current number: 3\n",
            "Current number: 4\n",
            "Loop finished.\n"
          ]
        }
      ]
    },
    {
      "cell_type": "code",
      "source": [
        "for i in range(5):\n",
        "    if i == 2:\n",
        "       continue\n",
        "    print(\"Current number:\", i)\n",
        "print(\"Loop finished.\")"
      ],
      "metadata": {
        "colab": {
          "base_uri": "https://localhost:8080/"
        },
        "id": "-O1QBIg2fUcP",
        "outputId": "3aeb1296-ca44-4c6f-8939-52f67924b391"
      },
      "execution_count": 7,
      "outputs": [
        {
          "output_type": "stream",
          "name": "stdout",
          "text": [
            "Current number: 0\n",
            "Current number: 1\n",
            "Current number: 3\n",
            "Current number: 4\n",
            "Loop finished.\n"
          ]
        }
      ]
    }
  ]
}